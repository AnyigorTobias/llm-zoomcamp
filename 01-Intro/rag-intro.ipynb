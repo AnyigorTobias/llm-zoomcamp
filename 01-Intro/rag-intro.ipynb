{
 "cells": [
  {
   "cell_type": "code",
   "execution_count": 1,
   "id": "437fd854-4378-4e71-8827-c3c560100311",
   "metadata": {},
   "outputs": [],
   "source": [
    "# pip install minsearch\n",
    "\n",
    "import minsearch"
   ]
  },
  {
   "cell_type": "code",
   "execution_count": 2,
   "id": "d17e3324-e2bb-4880-8801-7d9cdb93b387",
   "metadata": {},
   "outputs": [
    {
     "name": "stdout",
     "output_type": "stream",
     "text": [
      "--2025-07-02 22:50:55--  https://github.com/DataTalksClub/llm-zoomcamp/raw/refs/heads/main/01-intro/documents.json\n",
      "Resolving github.com (github.com)... 20.26.156.215\n",
      "Connecting to github.com (github.com)|20.26.156.215|:443... connected.\n",
      "HTTP request sent, awaiting response... 302 Found\n",
      "Location: https://raw.githubusercontent.com/DataTalksClub/llm-zoomcamp/refs/heads/main/01-intro/documents.json [following]\n",
      "--2025-07-02 22:50:55--  https://raw.githubusercontent.com/DataTalksClub/llm-zoomcamp/refs/heads/main/01-intro/documents.json\n",
      "Resolving raw.githubusercontent.com (raw.githubusercontent.com)... 185.199.110.133, 185.199.108.133, 185.199.109.133, ...\n",
      "Connecting to raw.githubusercontent.com (raw.githubusercontent.com)|185.199.110.133|:443... connected.\n",
      "HTTP request sent, awaiting response... 200 OK\n",
      "Length: 658332 (643K) [text/plain]\n",
      "Saving to: ‘documents.json’\n",
      "\n",
      "documents.json      100%[===================>] 642.90K  --.-KB/s    in 0.005s  \n",
      "\n",
      "2025-07-02 22:50:55 (116 MB/s) - ‘documents.json’ saved [658332/658332]\n",
      "\n"
     ]
    }
   ],
   "source": [
    "!wget https://github.com/DataTalksClub/llm-zoomcamp/raw/refs/heads/main/01-intro/documents.json"
   ]
  },
  {
   "cell_type": "code",
   "execution_count": 74,
   "id": "862e0822-d122-463c-8a74-a2d5e947ad9c",
   "metadata": {},
   "outputs": [],
   "source": [
    "import json"
   ]
  },
  {
   "cell_type": "code",
   "execution_count": 75,
   "id": "eff105e7-229f-4d3f-80f0-56863d8b488b",
   "metadata": {},
   "outputs": [],
   "source": [
    "with open('documents.json', 'rt') as f_in:\n",
    "    docs_raw = json.load(f_in)"
   ]
  },
  {
   "cell_type": "code",
   "execution_count": 76,
   "id": "9e33633c-560c-4fd2-852b-f3a63681172d",
   "metadata": {},
   "outputs": [],
   "source": [
    "documents = []\n",
    "for course_dict in docs_raw:\n",
    "    for doc in course_dict['documents']:\n",
    "        doc['course'] = course_dict['course']\n",
    "        documents.append(doc)"
   ]
  },
  {
   "cell_type": "code",
   "execution_count": 77,
   "id": "166e1c0f-224a-4fc7-91d3-a90a625743bc",
   "metadata": {},
   "outputs": [],
   "source": [
    "index = minsearch.Index(\n",
    "    text_fields = [\"question\", \"text\", \"section\"],\n",
    "    keyword_fields =[\"course\"]\n",
    ")"
   ]
  },
  {
   "cell_type": "code",
   "execution_count": 78,
   "id": "e41a2fca-2a1f-4104-92e0-f6a91013fcd8",
   "metadata": {},
   "outputs": [
    {
     "data": {
      "text/plain": [
       "<minsearch.minsearch.Index at 0x7ad22d700ec0>"
      ]
     },
     "execution_count": 78,
     "metadata": {},
     "output_type": "execute_result"
    }
   ],
   "source": [
    "index.fit(documents)"
   ]
  },
  {
   "cell_type": "code",
   "execution_count": 79,
   "id": "2dcb36ca-0e3d-4816-8312-06dffc2db3b2",
   "metadata": {},
   "outputs": [],
   "source": [
    "import os\n",
    "from google import genai\n",
    "from dotenv import load_dotenv\n",
    "\n",
    "load_dotenv()\n",
    "gemini_key = os.getenv(\"GEMINI_API_KEY\")\n",
    "client = genai.Client(api_key=gemini_key)\n"
   ]
  },
  {
   "cell_type": "code",
   "execution_count": 80,
   "id": "994b12d1-af66-4b97-b494-b71d63563e6b",
   "metadata": {},
   "outputs": [],
   "source": [
    "def search(query):\n",
    "\n",
    "    boost = {'question':3.0, 'section': 0.5}\n",
    "    results = index.search(\n",
    "        query = query,\n",
    "        filter_dict = {'course': 'data-engineering-zoomcamp'},\n",
    "        boost_dict=boost,\n",
    "        num_results = 5, \n",
    "    ) \n",
    "    return results \n"
   ]
  },
  {
   "cell_type": "code",
   "execution_count": 85,
   "id": "f66b24a3-d8ac-4b04-9408-c10c49c26148",
   "metadata": {},
   "outputs": [],
   "source": [
    "def build_prompt(query, search_results):\n",
    "\n",
    "    prompt_template = \"\"\"\"\n",
    "    You're a course assistant. Answer the QUESTION based on the CONTEXT from the FAQ database.\n",
    "    Use only the facts from the CONTEXT when answering the QUESTION. \n",
    "    If the CONTEXT doesn't contain the answer, output NONE. \n",
    "    \n",
    "    QUESTION: {question}\n",
    "    \n",
    "    CONTEXT: \n",
    "    {context}\n",
    "    \n",
    "    \"\"\".strip()\n",
    "\n",
    "    context = \"\"\n",
    "    for doc in search_results:\n",
    "        context = context + f\"section: {doc['section']}\\nquestion: {doc['question']}\\nanswer: {doc['text']}\\n\\n\"\n",
    "    \n",
    "    prompt = prompt_template.format(question=query, context = context).strip()\n",
    "\n",
    "    return prompt\n",
    "\n",
    "\n",
    "    "
   ]
  },
  {
   "cell_type": "code",
   "execution_count": 82,
   "id": "858b4ef2-7d84-4b8a-a825-b773abd3f439",
   "metadata": {},
   "outputs": [],
   "source": [
    "def llm(prompt):\n",
    "    response = client.models.generate_content(\n",
    "        model='gemini-2.0-flash-001', contents=prompt\n",
    "    )\n",
    "    return response.text.strip()\n",
    "    "
   ]
  },
  {
   "cell_type": "code",
   "execution_count": 83,
   "id": "700e8673-3197-43e8-82e2-0fa9901b6cc7",
   "metadata": {},
   "outputs": [],
   "source": [
    "query = 'how do I run Kafka?'\n",
    "\n",
    "def rag(query):\n",
    "    search_results = search(query)\n",
    "    prompt = build_prompt(query, search_results)\n",
    "    answer = llm(prompt)\n",
    "    return answer"
   ]
  },
  {
   "cell_type": "code",
   "execution_count": 86,
   "id": "77336894-2922-4bb3-9b1d-bb8f5dbcce05",
   "metadata": {},
   "outputs": [
    {
     "data": {
      "text/plain": [
       "\"Yes, even if you don't register, you're still eligible to submit the homeworks. Also, you can start by installing and setting up all the dependencies and requirements, and look over the prerequisites and syllabus to see if you are comfortable with these subjects.\""
      ]
     },
     "execution_count": 86,
     "metadata": {},
     "output_type": "execute_result"
    }
   ],
   "source": [
    "rag(\"can I start the course today?\")\n"
   ]
  },
  {
   "cell_type": "code",
   "execution_count": null,
   "id": "4acc0d04-daec-4f35-a9e1-2107d475b7f8",
   "metadata": {},
   "outputs": [],
   "source": []
  }
 ],
 "metadata": {
  "kernelspec": {
   "display_name": "Python 3 (ipykernel)",
   "language": "python",
   "name": "python3"
  },
  "language_info": {
   "codemirror_mode": {
    "name": "ipython",
    "version": 3
   },
   "file_extension": ".py",
   "mimetype": "text/x-python",
   "name": "python",
   "nbconvert_exporter": "python",
   "pygments_lexer": "ipython3",
   "version": "3.12.1"
  }
 },
 "nbformat": 4,
 "nbformat_minor": 5
}
